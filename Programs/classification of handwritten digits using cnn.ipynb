{
 "cells": [
  {
   "cell_type": "code",
   "execution_count": 2,
   "id": "8abac6f5",
   "metadata": {},
   "outputs": [],
   "source": [
    "from sklearn import datasets\n",
    "from sklearn.model_selection import train_test_split\n",
    "from keras.utils import to_categorical\n",
    "from keras.models import Sequential\n",
    "\n",
    "from keras.callbacks import EarlyStopping,ModelCheckpoint\n",
    "import matplotlib.pyplot as plt\n"
   ]
  },
  {
   "cell_type": "code",
   "execution_count": 4,
   "id": "f410129a",
   "metadata": {},
   "outputs": [],
   "source": [
    "from keras.layers import Conv2D,MaxPooling2D,Flatten,Dense"
   ]
  },
  {
   "cell_type": "code",
   "execution_count": 5,
   "id": "e5a29d49",
   "metadata": {},
   "outputs": [],
   "source": [
    "data=datasets.load_digits()\n",
    "x=data.images\n",
    "y=data.target"
   ]
  },
  {
   "cell_type": "code",
   "execution_count": 7,
   "id": "fc8aba55",
   "metadata": {},
   "outputs": [],
   "source": [
    "x=x.reshape((x.shape[0],8,8,1))\n",
    "x=x.astype('float32')/255\n",
    "y=to_categorical(y)"
   ]
  },
  {
   "cell_type": "code",
   "execution_count": 8,
   "id": "cbbc678c",
   "metadata": {},
   "outputs": [],
   "source": [
    "x_train,x_test,y_train,y_test=train_test_split(x,y,test_size=0.2)"
   ]
  },
  {
   "cell_type": "code",
   "execution_count": 11,
   "id": "4ea5f0a4",
   "metadata": {},
   "outputs": [],
   "source": [
    "model=Sequential()\n",
    "model.add(Conv2D(32,kernel_size=(3,3),activation='relu',input_shape=(8,8,1)))\n",
    "model.add(MaxPooling2D(pool_size=(2,2)))\n",
    "model.add(Flatten())\n",
    "model.add(Dense(64,activation='relu'))\n",
    "model.add(Dense(10,activation='softmax'))"
   ]
  },
  {
   "cell_type": "code",
   "execution_count": 12,
   "id": "79457c21",
   "metadata": {},
   "outputs": [],
   "source": [
    "model.compile(optimizer='adam',loss='categorical_crossentropy',metrics=['accuracy'])"
   ]
  },
  {
   "cell_type": "code",
   "execution_count": 14,
   "id": "46e8b986",
   "metadata": {},
   "outputs": [],
   "source": [
    "earlystop=EarlyStopping(monitor='val_loss',patience=10)\n",
    "best_weights=ModelCheckpoint('best_weights.h5',save_best_only=True,monitor='val_loss',mode='min')"
   ]
  },
  {
   "cell_type": "code",
   "execution_count": 17,
   "id": "87075353",
   "metadata": {},
   "outputs": [
    {
     "name": "stdout",
     "output_type": "stream",
     "text": [
      "Epoch 1/50\n",
      "45/45 [==============================] - 1s 8ms/step - loss: 2.2901 - accuracy: 0.2032 - val_loss: 2.2718 - val_accuracy: 0.3778\n",
      "Epoch 2/50\n",
      "28/45 [=================>............] - ETA: 0s - loss: 2.2480 - accuracy: 0.3504"
     ]
    },
    {
     "name": "stderr",
     "output_type": "stream",
     "text": [
      "C:\\Users\\Student\\AppData\\Roaming\\Python\\Python39\\site-packages\\keras\\src\\engine\\training.py:3000: UserWarning: You are saving your model as an HDF5 file via `model.save()`. This file format is considered legacy. We recommend using instead the native Keras format, e.g. `model.save('my_model.keras')`.\n",
      "  saving_api.save_model(\n"
     ]
    },
    {
     "name": "stdout",
     "output_type": "stream",
     "text": [
      "45/45 [==============================] - 0s 4ms/step - loss: 2.2305 - accuracy: 0.3737 - val_loss: 2.1816 - val_accuracy: 0.5028\n",
      "Epoch 3/50\n",
      "45/45 [==============================] - 0s 4ms/step - loss: 2.0689 - accuracy: 0.5595 - val_loss: 1.9512 - val_accuracy: 0.5417\n",
      "Epoch 4/50\n",
      "45/45 [==============================] - 0s 5ms/step - loss: 1.7584 - accuracy: 0.6458 - val_loss: 1.5718 - val_accuracy: 0.7194\n",
      "Epoch 5/50\n",
      "45/45 [==============================] - 0s 3ms/step - loss: 1.3656 - accuracy: 0.7634 - val_loss: 1.1821 - val_accuracy: 0.8194\n",
      "Epoch 6/50\n",
      "45/45 [==============================] - 0s 3ms/step - loss: 1.0316 - accuracy: 0.8163 - val_loss: 0.9040 - val_accuracy: 0.8722\n",
      "Epoch 7/50\n",
      "45/45 [==============================] - 0s 4ms/step - loss: 0.7972 - accuracy: 0.8629 - val_loss: 0.6994 - val_accuracy: 0.8944\n",
      "Epoch 8/50\n",
      "45/45 [==============================] - 0s 4ms/step - loss: 0.6477 - accuracy: 0.8852 - val_loss: 0.5798 - val_accuracy: 0.8722\n",
      "Epoch 9/50\n",
      "45/45 [==============================] - 0s 4ms/step - loss: 0.5490 - accuracy: 0.8873 - val_loss: 0.4902 - val_accuracy: 0.9111\n",
      "Epoch 10/50\n",
      "45/45 [==============================] - 0s 3ms/step - loss: 0.4816 - accuracy: 0.9005 - val_loss: 0.4379 - val_accuracy: 0.9111\n",
      "Epoch 11/50\n",
      "45/45 [==============================] - 0s 4ms/step - loss: 0.4285 - accuracy: 0.9012 - val_loss: 0.3901 - val_accuracy: 0.9222\n",
      "Epoch 12/50\n",
      "45/45 [==============================] - 0s 3ms/step - loss: 0.3899 - accuracy: 0.9081 - val_loss: 0.3427 - val_accuracy: 0.9361\n",
      "Epoch 13/50\n",
      "45/45 [==============================] - 0s 4ms/step - loss: 0.3591 - accuracy: 0.9144 - val_loss: 0.3185 - val_accuracy: 0.9222\n",
      "Epoch 14/50\n",
      "45/45 [==============================] - 0s 4ms/step - loss: 0.3323 - accuracy: 0.9172 - val_loss: 0.3171 - val_accuracy: 0.9222\n",
      "Epoch 15/50\n",
      "45/45 [==============================] - 0s 4ms/step - loss: 0.3133 - accuracy: 0.9193 - val_loss: 0.2787 - val_accuracy: 0.9361\n",
      "Epoch 16/50\n",
      "45/45 [==============================] - 0s 3ms/step - loss: 0.2844 - accuracy: 0.9276 - val_loss: 0.2528 - val_accuracy: 0.9500\n",
      "Epoch 17/50\n",
      "45/45 [==============================] - 0s 3ms/step - loss: 0.2686 - accuracy: 0.9353 - val_loss: 0.2408 - val_accuracy: 0.9444\n",
      "Epoch 18/50\n",
      "45/45 [==============================] - 0s 4ms/step - loss: 0.2558 - accuracy: 0.9360 - val_loss: 0.2240 - val_accuracy: 0.9500\n",
      "Epoch 19/50\n",
      "45/45 [==============================] - 0s 3ms/step - loss: 0.2411 - accuracy: 0.9374 - val_loss: 0.2243 - val_accuracy: 0.9444\n",
      "Epoch 20/50\n",
      "45/45 [==============================] - 0s 4ms/step - loss: 0.2288 - accuracy: 0.9374 - val_loss: 0.2135 - val_accuracy: 0.9472\n",
      "Epoch 21/50\n",
      "45/45 [==============================] - 0s 5ms/step - loss: 0.2194 - accuracy: 0.9429 - val_loss: 0.1974 - val_accuracy: 0.9528\n",
      "Epoch 22/50\n",
      "45/45 [==============================] - 0s 4ms/step - loss: 0.2093 - accuracy: 0.9464 - val_loss: 0.1886 - val_accuracy: 0.9528\n",
      "Epoch 23/50\n",
      "45/45 [==============================] - 0s 4ms/step - loss: 0.2015 - accuracy: 0.9443 - val_loss: 0.1788 - val_accuracy: 0.9472\n",
      "Epoch 24/50\n",
      "45/45 [==============================] - 0s 4ms/step - loss: 0.1886 - accuracy: 0.9513 - val_loss: 0.1729 - val_accuracy: 0.9528\n",
      "Epoch 25/50\n",
      "45/45 [==============================] - 0s 3ms/step - loss: 0.1823 - accuracy: 0.9520 - val_loss: 0.1733 - val_accuracy: 0.9500\n",
      "Epoch 26/50\n",
      "45/45 [==============================] - 0s 3ms/step - loss: 0.1729 - accuracy: 0.9562 - val_loss: 0.1655 - val_accuracy: 0.9556\n",
      "Epoch 27/50\n",
      "45/45 [==============================] - 0s 3ms/step - loss: 0.1689 - accuracy: 0.9562 - val_loss: 0.1491 - val_accuracy: 0.9694\n",
      "Epoch 28/50\n",
      "45/45 [==============================] - 0s 3ms/step - loss: 0.1624 - accuracy: 0.9576 - val_loss: 0.1455 - val_accuracy: 0.9639\n",
      "Epoch 29/50\n",
      "45/45 [==============================] - 0s 4ms/step - loss: 0.1570 - accuracy: 0.9589 - val_loss: 0.1476 - val_accuracy: 0.9583\n",
      "Epoch 30/50\n",
      "45/45 [==============================] - 0s 3ms/step - loss: 0.1499 - accuracy: 0.9645 - val_loss: 0.1403 - val_accuracy: 0.9639\n",
      "Epoch 31/50\n",
      "45/45 [==============================] - 0s 4ms/step - loss: 0.1516 - accuracy: 0.9582 - val_loss: 0.1332 - val_accuracy: 0.9722\n",
      "Epoch 32/50\n",
      "45/45 [==============================] - 0s 3ms/step - loss: 0.1423 - accuracy: 0.9638 - val_loss: 0.1361 - val_accuracy: 0.9694\n",
      "Epoch 33/50\n",
      "45/45 [==============================] - 0s 3ms/step - loss: 0.1337 - accuracy: 0.9687 - val_loss: 0.1288 - val_accuracy: 0.9722\n",
      "Epoch 34/50\n",
      "45/45 [==============================] - 0s 3ms/step - loss: 0.1329 - accuracy: 0.9694 - val_loss: 0.1313 - val_accuracy: 0.9611\n",
      "Epoch 35/50\n",
      "45/45 [==============================] - 0s 3ms/step - loss: 0.1267 - accuracy: 0.9715 - val_loss: 0.1260 - val_accuracy: 0.9694\n",
      "Epoch 36/50\n",
      "45/45 [==============================] - 0s 3ms/step - loss: 0.1239 - accuracy: 0.9673 - val_loss: 0.1287 - val_accuracy: 0.9639\n",
      "Epoch 37/50\n",
      "45/45 [==============================] - 0s 3ms/step - loss: 0.1178 - accuracy: 0.9701 - val_loss: 0.1201 - val_accuracy: 0.9722\n",
      "Epoch 38/50\n",
      "45/45 [==============================] - 0s 4ms/step - loss: 0.1150 - accuracy: 0.9701 - val_loss: 0.1172 - val_accuracy: 0.9667\n",
      "Epoch 39/50\n",
      "45/45 [==============================] - 0s 3ms/step - loss: 0.1098 - accuracy: 0.9770 - val_loss: 0.1124 - val_accuracy: 0.9750\n",
      "Epoch 40/50\n",
      "45/45 [==============================] - 0s 3ms/step - loss: 0.1085 - accuracy: 0.9763 - val_loss: 0.1209 - val_accuracy: 0.9639\n",
      "Epoch 41/50\n",
      "45/45 [==============================] - 0s 3ms/step - loss: 0.1038 - accuracy: 0.9708 - val_loss: 0.1070 - val_accuracy: 0.9722\n",
      "Epoch 42/50\n",
      "45/45 [==============================] - 0s 3ms/step - loss: 0.1007 - accuracy: 0.9729 - val_loss: 0.1078 - val_accuracy: 0.9722\n",
      "Epoch 43/50\n",
      "45/45 [==============================] - 0s 3ms/step - loss: 0.0966 - accuracy: 0.9756 - val_loss: 0.1093 - val_accuracy: 0.9694\n",
      "Epoch 44/50\n",
      "45/45 [==============================] - 0s 3ms/step - loss: 0.0939 - accuracy: 0.9722 - val_loss: 0.1139 - val_accuracy: 0.9639\n",
      "Epoch 45/50\n",
      "45/45 [==============================] - 0s 3ms/step - loss: 0.0953 - accuracy: 0.9743 - val_loss: 0.1008 - val_accuracy: 0.9722\n",
      "Epoch 46/50\n",
      "45/45 [==============================] - 0s 3ms/step - loss: 0.0895 - accuracy: 0.9791 - val_loss: 0.1096 - val_accuracy: 0.9667\n",
      "Epoch 47/50\n",
      "45/45 [==============================] - 0s 2ms/step - loss: 0.0892 - accuracy: 0.9791 - val_loss: 0.1037 - val_accuracy: 0.9750\n",
      "Epoch 48/50\n",
      "45/45 [==============================] - 0s 3ms/step - loss: 0.0890 - accuracy: 0.9756 - val_loss: 0.1030 - val_accuracy: 0.9722\n",
      "Epoch 49/50\n",
      "45/45 [==============================] - 0s 3ms/step - loss: 0.0812 - accuracy: 0.9784 - val_loss: 0.1027 - val_accuracy: 0.9750\n",
      "Epoch 50/50\n",
      "45/45 [==============================] - 0s 3ms/step - loss: 0.0786 - accuracy: 0.9805 - val_loss: 0.1005 - val_accuracy: 0.9750\n"
     ]
    }
   ],
   "source": [
    "history=model.fit(x_train,y_train,epochs=50,batch_size=32,validation_data=(x_test,y_test),callbacks=[earlystop,best_weights])"
   ]
  },
  {
   "cell_type": "code",
   "execution_count": 23,
   "id": "9d4896d7",
   "metadata": {},
   "outputs": [
    {
     "data": {
      "image/png": "[encoded data removed]",
      "text/plain": [
       "<Figure size 640x480 with 1 Axes>"
      ]
     },
     "metadata": {},
     "output_type": "display_data"
    },
    {
     "data": {
      "image/png": "[encoded data removed]",
      "text/plain": [
       "<Figure size 640x480 with 1 Axes>"
      ]
     },
     "metadata": {},
     "output_type": "display_data"
    }
   ],
   "source": [
    "plt.plot(history.history['val_loss'])\n",
    "plt.title('Validation loss')\n",
    "plt.ylabel('loss')\n",
    "plt.xlabel('Epoch')\n",
    "plt.show()\n",
    "\n",
    "plt.plot(history.history['val_accuracy'])\n",
    "plt.title('Validation accuracy')\n",
    "plt.ylabel('accuracy')\n",
    "plt.xlabel('Epoch')\n",
    "plt.show()"
   ]
  },
  {
   "cell_type": "code",
   "execution_count": 24,
   "id": "a7d003c5",
   "metadata": {},
   "outputs": [],
   "source": [
    "model.load_weights(\"best_weights.h5\")"
   ]
  },
  {
   "cell_type": "code",
   "execution_count": 26,
   "id": "dff23090",
   "metadata": {},
   "outputs": [
    {
     "name": "stdout",
     "output_type": "stream",
     "text": [
      "Test loss:  0.1004713773727417\n",
      "Test Accuracy:  0.9750000238418579\n"
     ]
    }
   ],
   "source": [
    "test_loss,test_acc=model.evaluate(x_test,y_test,verbose=0)\n",
    "print(\"Test loss: \",test_loss)\n",
    "print(\"Test Accuracy: \",test_acc)"
   ]
  },
  {
   "cell_type": "code",
   "execution_count": null,
   "id": "23bec655",
   "metadata": {},
   "outputs": [],
   "source": []
  }
 ],
 "metadata": {
  "kernelspec": {
   "display_name": "Python 3 (ipykernel)",
   "language": "python",
   "name": "python3"
  },
  "language_info": {
   "codemirror_mode": {
    "name": "ipython",
    "version": 3
   },
   "file_extension": ".py",
   "mimetype": "text/x-python",
   "name": "python",
   "nbconvert_exporter": "python",
   "pygments_lexer": "ipython3",
   "version": "3.9.13"
  }
 },
 "nbformat": 4,
 "nbformat_minor": 5
}
