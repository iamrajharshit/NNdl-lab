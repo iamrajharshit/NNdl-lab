{
  "cells": [
    {
      "cell_type": "markdown",
      "metadata": {
        "id": "view-in-github",
        "colab_type": "text"
      },
      "source": [
        "<a href=\"https://colab.research.google.com/github/SaachiSuvarna/NNdl-lab/blob/main/2Transfer_learning_methods_Vgg16_and_vgg19.ipynb\" target=\"_parent\"><img src=\"https://colab.research.google.com/assets/colab-badge.svg\" alt=\"Open In Colab\"/></a>"
      ]
    },
    {
      "cell_type": "code",
      "execution_count": 1,
      "id": "3175acfd",
      "metadata": {
        "id": "3175acfd"
      },
      "outputs": [],
      "source": [
        "import numpy as np\n",
        "from tensorflow import keras\n",
        "from tensorflow.keras import layers\n",
        "from tensorflow.keras.applications import VGG16,VGG19,ResNet50\n",
        "from tensorflow.keras.datasets import cifar10\n",
        "from tensorflow.keras.utils import to_categorical\n"
      ]
    },
    {
      "cell_type": "markdown",
      "id": "703856c5",
      "metadata": {
        "id": "703856c5"
      },
      "source": [
        " #it consists of 60,000 32x32 images in 10 classes with 6000 images per class"
      ]
    },
    {
      "cell_type": "code",
      "execution_count": 2,
      "id": "9a3c6ae0",
      "metadata": {
        "id": "9a3c6ae0"
      },
      "outputs": [],
      "source": []
    },
    {
      "cell_type": "code",
      "execution_count": 2,
      "id": "a5166d4d",
      "metadata": {
        "colab": {
          "base_uri": "https://localhost:8080/"
        },
        "id": "a5166d4d",
        "outputId": "06f07386-7dbe-4734-ebd1-4c72e1abf676"
      },
      "outputs": [
        {
          "output_type": "stream",
          "name": "stdout",
          "text": [
            "Downloading data from https://www.cs.toronto.edu/~kriz/cifar-10-python.tar.gz\n",
            "170498071/170498071 [==============================] - 2s 0us/step\n"
          ]
        }
      ],
      "source": [
        "(x_train,y_train),(x_test,y_test)=cifar10.load_data()\n",
        "\n",
        "#preprocess the data\n",
        "x_train=x_train.astype(\"float32\")/255.0\n",
        "x_test=x_test.astype(\"float32\")/255.0\n",
        "\n",
        "#categorical encoding\n",
        "y_train=to_categorical(y_train,10)\n",
        "y_test=to_categorical(y_test,10)"
      ]
    },
    {
      "cell_type": "code",
      "execution_count": 3,
      "id": "27d6f599",
      "metadata": {
        "colab": {
          "base_uri": "https://localhost:8080/"
        },
        "id": "27d6f599",
        "outputId": "7ab6b78e-d1eb-499c-a68c-44afce18c3f2"
      },
      "outputs": [
        {
          "output_type": "stream",
          "name": "stdout",
          "text": [
            "Downloading data from https://storage.googleapis.com/tensorflow/keras-applications/vgg16/vgg16_weights_tf_dim_ordering_tf_kernels_notop.h5\n",
            "58889256/58889256 [==============================] - 0s 0us/step\n",
            "Downloading data from https://storage.googleapis.com/tensorflow/keras-applications/vgg19/vgg19_weights_tf_dim_ordering_tf_kernels_notop.h5\n",
            "80134624/80134624 [==============================] - 1s 0us/step\n",
            "Downloading data from https://storage.googleapis.com/tensorflow/keras-applications/resnet/resnet50_weights_tf_dim_ordering_tf_kernels_notop.h5\n",
            "94765736/94765736 [==============================] - 1s 0us/step\n"
          ]
        }
      ],
      "source": [
        "vgg16=VGG16(weights=\"imagenet\",include_top=False,input_shape=(32,32,3))\n",
        "vgg19=VGG19(weights=\"imagenet\",include_top=False,input_shape=(32,32,3))\n",
        "resnet=ResNet50(weights=\"imagenet\",include_top=False,input_shape=(32,32,3))\n",
        "\n"
      ]
    },
    {
      "cell_type": "code",
      "execution_count": 4,
      "id": "c051afae",
      "metadata": {
        "id": "c051afae"
      },
      "outputs": [],
      "source": [
        "#Define the output layers\n",
        "\n",
        "vgg16_output=layers.GlobalAveragePooling2D()(vgg16.output)\n",
        "vgg16_output=layers.Dense(10,activation=\"softmax\")(vgg16_output)\n",
        "\n",
        "vgg19_output=layers.GlobalAveragePooling2D()(vgg19.output)\n",
        "vgg19_output=layers.Dense(10,activation=\"softmax\")(vgg19_output)\n",
        "\n",
        "resnet_output=layers.GlobalAveragePooling2D()(resnet.output)\n",
        "resnet_output=layers.Dense(10,activation=\"softmax\")(resnet_output)"
      ]
    },
    {
      "cell_type": "code",
      "execution_count": 5,
      "id": "ca4ebe68",
      "metadata": {
        "id": "ca4ebe68"
      },
      "outputs": [],
      "source": [
        "#define the complete models\n",
        "\n",
        "vgg16_model=keras.Model(inputs=vgg16.input,outputs=vgg16_output)\n",
        "vgg19_model=keras.Model(inputs=vgg19.input,outputs=vgg19_output)\n",
        "resnet_model=keras.Model(inputs=resnet.input,outputs=resnet_output)"
      ]
    },
    {
      "cell_type": "code",
      "execution_count": null,
      "id": "a04e7c4c",
      "metadata": {
        "id": "a04e7c4c"
      },
      "outputs": [],
      "source": [
        "vgg16_model.compile(loss=\"categorical_crossentropy\",optimizer=\"adam\", metrics=[\"accuracy\"])\n",
        "vgg19_model.compile(loss=\"categorical_crossentropy\",optimizer=\"adam\", metrics=[\"accuracy\"])\n",
        "resnet_model.compile(loss=\"categorical_crossentropy\",optimizer=\"adam\", metrics=[\"accuracy\"])\n",
        "\n",
        "vgg16_loss,vgg16_accuracy=vgg16_model.evaluate(x_test,y_test,verbose=0)\n",
        "vgg19_loss,vgg19_accuracy=vgg19_model.evaluate(x_test,y_test,verbose=0)\n",
        "resnet_loss,resnet_accuracy=resnet_model.evaluate(x_test,y_test,verbose=0)\n",
        "\n",
        "print(\"VGG16 Accuracy:\",vgg16_accuracy)\n",
        "print(\"VGG19 Accuracy:\",vgg19_accuracy)\n",
        "print(\"ResNet50 Accuracy:\",resnet_accuracy)"
      ]
    },
    {
      "cell_type": "code",
      "execution_count": 7,
      "id": "e5e8ce2e",
      "metadata": {
        "id": "e5e8ce2e"
      },
      "outputs": [],
      "source": [
        "mod=[vgg16,vgg19,resnet]"
      ]
    },
    {
      "cell_type": "code",
      "source": [
        "\n",
        "for i in mod:\n",
        "  i_output=layers.GlobalAveragePooling2D()(i.output)\n",
        "  i_output=layers.Dense(10,activation=\"softmax\")(i_output)\n",
        "\n",
        "  i_model=keras.Model(inputs=i.input,outputs=i_output)\n",
        "\n",
        "  i_model.compile(loss=\"categorical_crossentropy\",optimizer=\"adam\", metrics=[\"accuracy\"])\n",
        "\n",
        "  i_loss,i_accuracy=i_model.evaluate(x_test,y_test,verbose=0)\n",
        "\n",
        "  print(\" Accuracy:\",i_accuracy)"
      ],
      "metadata": {
        "colab": {
          "base_uri": "https://localhost:8080/"
        },
        "id": "9_OnyLHU8sj7",
        "outputId": "2578095c-fe48-4ea1-e4b0-ff9e1baa913b"
      },
      "id": "9_OnyLHU8sj7",
      "execution_count": 10,
      "outputs": [
        {
          "output_type": "stream",
          "name": "stdout",
          "text": [
            " Accuracy: 0.07689999788999557\n",
            " Accuracy: 0.09719999879598618\n",
            " Accuracy: 0.09790000319480896\n"
          ]
        }
      ]
    },
    {
      "cell_type": "code",
      "source": [],
      "metadata": {
        "id": "nCzIUTmB843O"
      },
      "id": "nCzIUTmB843O",
      "execution_count": null,
      "outputs": []
    }
  ],
  "metadata": {
    "kernelspec": {
      "display_name": "Python 3 (ipykernel)",
      "language": "python",
      "name": "python3"
    },
    "language_info": {
      "codemirror_mode": {
        "name": "ipython",
        "version": 3
      },
      "file_extension": ".py",
      "mimetype": "text/x-python",
      "name": "python",
      "nbconvert_exporter": "python",
      "pygments_lexer": "ipython3",
      "version": "3.11.0"
    },
    "colab": {
      "provenance": [],
      "include_colab_link": true
    }
  },
  "nbformat": 4,
  "nbformat_minor": 5
}