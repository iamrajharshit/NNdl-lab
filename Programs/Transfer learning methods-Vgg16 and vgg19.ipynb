{
 "cells": [
  {
   "cell_type": "code",
   "execution_count": 2,
   "id": "3175acfd",
   "metadata": {},
   "outputs": [],
   "source": [
    "import numpy as np \n",
    "from tensorflow import keras\n",
    "from tensorflow.keras import layers\n",
    "from tensorflow.keras.applications import VGG16,VGG19,ResNet50\n",
    "from tensorflow.keras.datasets import cifar10\n",
    "from tensorflow.keras.utils import to_categorical\n"
   ]
  },
  {
   "cell_type": "markdown",
   "id": "703856c5",
   "metadata": {},
   "source": [
    " #it consists of 60,000 32x32 images in 10 classes with 6000 images per class"
   ]
  },
  {
   "cell_type": "code",
   "execution_count": 4,
   "id": "a5166d4d",
   "metadata": {},
   "outputs": [],
   "source": [
    "(x_train,y_train),(x_test,y_test)=cifar10.load_data()\n",
    "\n",
    "#preprocess the data\n",
    "x_train=x_train.astype(\"float32\")/255.0\n",
    "x_test=x_test.astype(\"float32\")/255.0\n",
    "\n",
    "#categorical encoding\n",
    "y_train=to_categorical(y_train,10)\n",
    "y_test=to_categorical(y_test,10)"
   ]
  },
  {
   "cell_type": "code",
   "execution_count": 6,
   "id": "27d6f599",
   "metadata": {},
   "outputs": [
    {
     "name": "stdout",
     "output_type": "stream",
     "text": [
      "Downloading data from https://storage.googleapis.com/tensorflow/keras-applications/vgg16/vgg16_weights_tf_dim_ordering_tf_kernels_notop.h5\n",
      "58889256/58889256 [==============================] - 85s 1us/step\n",
      "Downloading data from https://storage.googleapis.com/tensorflow/keras-applications/vgg19/vgg19_weights_tf_dim_ordering_tf_kernels_notop.h5\n",
      "80134624/80134624 [==============================] - 111s 1us/step\n",
      "Downloading data from https://storage.googleapis.com/tensorflow/keras-applications/resnet/resnet50_weights_tf_dim_ordering_tf_kernels_notop.h5\n",
      "94765736/94765736 [==============================] - 131s 1us/step\n"
     ]
    }
   ],
   "source": [
    "vgg16=VGG16(weights=\"imagenet\",include_top=False,input_shape=(32,32,3))\n",
    "vgg19=VGG19(weights=\"imagenet\",include_top=False,input_shape=(32,32,3))\n",
    "resnet=ResNet50(weights=\"imagenet\",include_top=False,input_shape=(32,32,3))"
   ]
  },
  {
   "cell_type": "code",
   "execution_count": 7,
   "id": "c051afae",
   "metadata": {},
   "outputs": [],
   "source": [
    "#Define the output layers\n",
    "\n",
    "vgg16_output=layers.GlobalAveragePooling2D()(vgg16.output)\n",
    "vgg16_output=layers.Dense(10,activation=\"softmax\")(vgg16_output)\n",
    "\n",
    "vgg19_output=layers.GlobalAveragePooling2D()(vgg19.output)\n",
    "vgg19_output=layers.Dense(10,activation=\"softmax\")(vgg19_output)\n",
    "\n",
    "resnet_output=layers.GlobalAveragePooling2D()(resnet.output)\n",
    "resnet_output=layers.Dense(10,activation=\"softmax\")(resnet_output)"
   ]
  },
  {
   "cell_type": "code",
   "execution_count": 8,
   "id": "ca4ebe68",
   "metadata": {},
   "outputs": [],
   "source": [
    "#define the complete models\n",
    "\n",
    "vgg16_model=keras.Model(inputs=vgg16.input,outputs=vgg16_output)\n",
    "vgg19_model=keras.Model(inputs=vgg19.input,outputs=vgg19_output)\n",
    "resnet_model=keras.Model(inputs=resnet.input,outputs=resnet_output)"
   ]
  },
  {
   "cell_type": "code",
   "execution_count": null,
   "id": "a04e7c4c",
   "metadata": {},
   "outputs": [],
   "source": [
    "vgg16_model.compile(loss=\"categorical_crossentropy\",optimizer=\"adam\", metrics=[\"accuracy\"])\n",
    "vgg19_model.compile(loss=\"categorical_crossentropy\",optimizer=\"adam\", metrics=[\"accuracy\"])\n",
    "resnet_model.compile(loss=\"categorical_crossentropy\",optimizer=\"adam\", metrics=[\"accuracy\"])\n",
    "\n",
    "vgg16_loss,vgg16_accuracy=vgg16_model.evaluate(x_test,y_test,verbose=0)\n",
    "vgg19_loss,vgg19_accuracy=vgg19_model.evaluate(x_test,y_test,verbose=0)\n",
    "resnet_loss,resnet_accuracy=resnet_model.evaluate(x_test,y_test,verbose=0)\n",
    "\n",
    "print(\"VGG16 Accuracy:\",vgg16_accuracy)\n",
    "print(\"VGG19 Accuracy:\",vgg19_accuracy)\n",
    "print(\"ResNet50 Accuracy:\",resnet_accuracy)"
   ]
  },
  {
   "cell_type": "code",
   "execution_count": null,
   "id": "e5e8ce2e",
   "metadata": {},
   "outputs": [],
   "source": []
  }
 ],
 "metadata": {
  "kernelspec": {
   "display_name": "Python 3 (ipykernel)",
   "language": "python",
   "name": "python3"
  },
  "language_info": {
   "codemirror_mode": {
    "name": "ipython",
    "version": 3
   },
   "file_extension": ".py",
   "mimetype": "text/x-python",
   "name": "python",
   "nbconvert_exporter": "python",
   "pygments_lexer": "ipython3",
   "version": "3.9.13"
  }
 },
 "nbformat": 4,
 "nbformat_minor": 5
}
