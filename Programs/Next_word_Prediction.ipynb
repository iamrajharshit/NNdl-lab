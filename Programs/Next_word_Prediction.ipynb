{
  "nbformat": 4,
  "nbformat_minor": 0,
  "metadata": {
    "colab": {
      "provenance": [],
      "authorship_tag": "ABX9TyNSyikNVyed7APpT27L5744",
      "include_colab_link": true
    },
    "kernelspec": {
      "name": "python3",
      "display_name": "Python 3"
    },
    "language_info": {
      "name": "python"
    }
  },
  "cells": [
    {
      "cell_type": "markdown",
      "metadata": {
        "id": "view-in-github",
        "colab_type": "text"
      },
      "source": [
        "<a href=\"https://colab.research.google.com/github/SaachiSuvarna/NNdl-lab/blob/main/Next_word_Prediction.ipynb\" target=\"_parent\"><img src=\"https://colab.research.google.com/assets/colab-badge.svg\" alt=\"Open In Colab\"/></a>"
      ]
    },
    {
      "cell_type": "code",
      "execution_count": 1,
      "metadata": {
        "colab": {
          "base_uri": "https://localhost:8080/"
        },
        "id": "jkPV9S0w7DPe",
        "outputId": "d8b1d391-7327-4c8a-fbc5-0c14771a3a90"
      },
      "outputs": [
        {
          "output_type": "stream",
          "name": "stdout",
          "text": [
            "Requirement already satisfied: tensorflow in /usr/local/lib/python3.10/dist-packages (2.14.0)\n",
            "Requirement already satisfied: absl-py>=1.0.0 in /usr/local/lib/python3.10/dist-packages (from tensorflow) (1.4.0)\n",
            "Requirement already satisfied: astunparse>=1.6.0 in /usr/local/lib/python3.10/dist-packages (from tensorflow) (1.6.3)\n",
            "Requirement already satisfied: flatbuffers>=23.5.26 in /usr/local/lib/python3.10/dist-packages (from tensorflow) (23.5.26)\n",
            "Requirement already satisfied: gast!=0.5.0,!=0.5.1,!=0.5.2,>=0.2.1 in /usr/local/lib/python3.10/dist-packages (from tensorflow) (0.5.4)\n",
            "Requirement already satisfied: google-pasta>=0.1.1 in /usr/local/lib/python3.10/dist-packages (from tensorflow) (0.2.0)\n",
            "Requirement already satisfied: h5py>=2.9.0 in /usr/local/lib/python3.10/dist-packages (from tensorflow) (3.9.0)\n",
            "Requirement already satisfied: libclang>=13.0.0 in /usr/local/lib/python3.10/dist-packages (from tensorflow) (16.0.6)\n",
            "Requirement already satisfied: ml-dtypes==0.2.0 in /usr/local/lib/python3.10/dist-packages (from tensorflow) (0.2.0)\n",
            "Requirement already satisfied: numpy>=1.23.5 in /usr/local/lib/python3.10/dist-packages (from tensorflow) (1.23.5)\n",
            "Requirement already satisfied: opt-einsum>=2.3.2 in /usr/local/lib/python3.10/dist-packages (from tensorflow) (3.3.0)\n",
            "Requirement already satisfied: packaging in /usr/local/lib/python3.10/dist-packages (from tensorflow) (23.2)\n",
            "Requirement already satisfied: protobuf!=4.21.0,!=4.21.1,!=4.21.2,!=4.21.3,!=4.21.4,!=4.21.5,<5.0.0dev,>=3.20.3 in /usr/local/lib/python3.10/dist-packages (from tensorflow) (3.20.3)\n",
            "Requirement already satisfied: setuptools in /usr/local/lib/python3.10/dist-packages (from tensorflow) (67.7.2)\n",
            "Requirement already satisfied: six>=1.12.0 in /usr/local/lib/python3.10/dist-packages (from tensorflow) (1.16.0)\n",
            "Requirement already satisfied: termcolor>=1.1.0 in /usr/local/lib/python3.10/dist-packages (from tensorflow) (2.3.0)\n",
            "Requirement already satisfied: typing-extensions>=3.6.6 in /usr/local/lib/python3.10/dist-packages (from tensorflow) (4.5.0)\n",
            "Requirement already satisfied: wrapt<1.15,>=1.11.0 in /usr/local/lib/python3.10/dist-packages (from tensorflow) (1.14.1)\n",
            "Requirement already satisfied: tensorflow-io-gcs-filesystem>=0.23.1 in /usr/local/lib/python3.10/dist-packages (from tensorflow) (0.34.0)\n",
            "Requirement already satisfied: grpcio<2.0,>=1.24.3 in /usr/local/lib/python3.10/dist-packages (from tensorflow) (1.59.0)\n",
            "Requirement already satisfied: tensorboard<2.15,>=2.14 in /usr/local/lib/python3.10/dist-packages (from tensorflow) (2.14.1)\n",
            "Requirement already satisfied: tensorflow-estimator<2.15,>=2.14.0 in /usr/local/lib/python3.10/dist-packages (from tensorflow) (2.14.0)\n",
            "Requirement already satisfied: keras<2.15,>=2.14.0 in /usr/local/lib/python3.10/dist-packages (from tensorflow) (2.14.0)\n",
            "Requirement already satisfied: wheel<1.0,>=0.23.0 in /usr/local/lib/python3.10/dist-packages (from astunparse>=1.6.0->tensorflow) (0.41.2)\n",
            "Requirement already satisfied: google-auth<3,>=1.6.3 in /usr/local/lib/python3.10/dist-packages (from tensorboard<2.15,>=2.14->tensorflow) (2.17.3)\n",
            "Requirement already satisfied: google-auth-oauthlib<1.1,>=0.5 in /usr/local/lib/python3.10/dist-packages (from tensorboard<2.15,>=2.14->tensorflow) (1.0.0)\n",
            "Requirement already satisfied: markdown>=2.6.8 in /usr/local/lib/python3.10/dist-packages (from tensorboard<2.15,>=2.14->tensorflow) (3.5)\n",
            "Requirement already satisfied: requests<3,>=2.21.0 in /usr/local/lib/python3.10/dist-packages (from tensorboard<2.15,>=2.14->tensorflow) (2.31.0)\n",
            "Requirement already satisfied: tensorboard-data-server<0.8.0,>=0.7.0 in /usr/local/lib/python3.10/dist-packages (from tensorboard<2.15,>=2.14->tensorflow) (0.7.1)\n",
            "Requirement already satisfied: werkzeug>=1.0.1 in /usr/local/lib/python3.10/dist-packages (from tensorboard<2.15,>=2.14->tensorflow) (3.0.0)\n",
            "Requirement already satisfied: cachetools<6.0,>=2.0.0 in /usr/local/lib/python3.10/dist-packages (from google-auth<3,>=1.6.3->tensorboard<2.15,>=2.14->tensorflow) (5.3.1)\n",
            "Requirement already satisfied: pyasn1-modules>=0.2.1 in /usr/local/lib/python3.10/dist-packages (from google-auth<3,>=1.6.3->tensorboard<2.15,>=2.14->tensorflow) (0.3.0)\n",
            "Requirement already satisfied: rsa<5,>=3.1.4 in /usr/local/lib/python3.10/dist-packages (from google-auth<3,>=1.6.3->tensorboard<2.15,>=2.14->tensorflow) (4.9)\n",
            "Requirement already satisfied: requests-oauthlib>=0.7.0 in /usr/local/lib/python3.10/dist-packages (from google-auth-oauthlib<1.1,>=0.5->tensorboard<2.15,>=2.14->tensorflow) (1.3.1)\n",
            "Requirement already satisfied: charset-normalizer<4,>=2 in /usr/local/lib/python3.10/dist-packages (from requests<3,>=2.21.0->tensorboard<2.15,>=2.14->tensorflow) (3.3.0)\n",
            "Requirement already satisfied: idna<4,>=2.5 in /usr/local/lib/python3.10/dist-packages (from requests<3,>=2.21.0->tensorboard<2.15,>=2.14->tensorflow) (3.4)\n",
            "Requirement already satisfied: urllib3<3,>=1.21.1 in /usr/local/lib/python3.10/dist-packages (from requests<3,>=2.21.0->tensorboard<2.15,>=2.14->tensorflow) (2.0.7)\n",
            "Requirement already satisfied: certifi>=2017.4.17 in /usr/local/lib/python3.10/dist-packages (from requests<3,>=2.21.0->tensorboard<2.15,>=2.14->tensorflow) (2023.7.22)\n",
            "Requirement already satisfied: MarkupSafe>=2.1.1 in /usr/local/lib/python3.10/dist-packages (from werkzeug>=1.0.1->tensorboard<2.15,>=2.14->tensorflow) (2.1.3)\n",
            "Requirement already satisfied: pyasn1<0.6.0,>=0.4.6 in /usr/local/lib/python3.10/dist-packages (from pyasn1-modules>=0.2.1->google-auth<3,>=1.6.3->tensorboard<2.15,>=2.14->tensorflow) (0.5.0)\n",
            "Requirement already satisfied: oauthlib>=3.0.0 in /usr/local/lib/python3.10/dist-packages (from requests-oauthlib>=0.7.0->google-auth-oauthlib<1.1,>=0.5->tensorboard<2.15,>=2.14->tensorflow) (3.2.2)\n"
          ]
        }
      ],
      "source": [
        "!pip install tensorflow"
      ]
    },
    {
      "cell_type": "markdown",
      "source": [
        "RNN->Recurrent Neural network\n",
        "For textual prediction,sentiment analysis----For fututre prediction\n",
        "1.The text(Movie was bad)\n",
        "2.Corpus/Dictionary:[m,w,b]\n",
        "3.Vectorized format:[1000]--means there is the word movie\n"
      ],
      "metadata": {
        "id": "jhauOZ4v8T1R"
      }
    },
    {
      "cell_type": "code",
      "source": [
        "import tensorflow as tf\n",
        "import numpy as np"
      ],
      "metadata": {
        "id": "cmRQ23aD8Jui"
      },
      "execution_count": 3,
      "outputs": []
    },
    {
      "cell_type": "code",
      "source": [
        "text=\"this is a sample text used to demonstrate predictive text with basic rnn.In, this example we will predict the next word as you type.\""
      ],
      "metadata": {
        "id": "MW8_at6mBMMX"
      },
      "execution_count": 4,
      "outputs": []
    },
    {
      "cell_type": "code",
      "source": [
        "tokenizer=tf.keras.layers.TextVectorization()\n",
        "tokenizer.adapt(text.split())"
      ],
      "metadata": {
        "id": "hKjrj1EXBba7"
      },
      "execution_count": 5,
      "outputs": []
    },
    {
      "cell_type": "code",
      "source": [
        "text_sequence=tokenizer(text)\n",
        "text_sequence"
      ],
      "metadata": {
        "colab": {
          "base_uri": "https://localhost:8080/"
        },
        "id": "ixitJ0dtCzP8",
        "outputId": "57f13182-23d5-4a79-df0b-935f487570ac"
      },
      "execution_count": 6,
      "outputs": [
        {
          "output_type": "execute_result",
          "data": {
            "text/plain": [
              "<tf.Tensor: shape=(13,), dtype=int64, numpy=array([ 6, 10, 13,  7,  2,  4,  5, 11,  9,  2,  3, 12,  8])>"
            ]
          },
          "metadata": {},
          "execution_count": 6
        }
      ]
    },
    {
      "cell_type": "code",
      "source": [
        "x=text_sequence[:-1]\n",
        "y=text_sequence[1:]"
      ],
      "metadata": {
        "id": "34b37-a3C5gj"
      },
      "execution_count": 7,
      "outputs": []
    },
    {
      "cell_type": "code",
      "source": [
        "model=tf.keras.Sequential([\n",
        "    tf.keras.layers.Embedding(input_dim=len(tokenizer.get_vocabulary()),output_dim=64,input_length=1),\n",
        "    tf.keras.layers.SimpleRNN(128,return_sequences=True),\n",
        "    tf.keras.layers.Dense(len(tokenizer.get_vocabulary()),activation='softmax')\n",
        "])"
      ],
      "metadata": {
        "id": "0BdFy2QlD_Z9"
      },
      "execution_count": 8,
      "outputs": []
    },
    {
      "cell_type": "code",
      "source": [
        "model.compile(loss='sparse_categorical_crossentropy',optimizer='adam')"
      ],
      "metadata": {
        "id": "7XFlN-IAFtrN"
      },
      "execution_count": 9,
      "outputs": []
    },
    {
      "cell_type": "code",
      "source": [
        "model.fit(x,y,epochs=50)"
      ],
      "metadata": {
        "colab": {
          "base_uri": "https://localhost:8080/"
        },
        "id": "Ee7S_oQKHfw0",
        "outputId": "83652b77-5264-4aac-f1b6-309e79c69f8c"
      },
      "execution_count": 10,
      "outputs": [
        {
          "output_type": "stream",
          "name": "stdout",
          "text": [
            "Epoch 1/50\n",
            "1/1 [==============================] - 2s 2s/step - loss: 2.6457\n",
            "Epoch 2/50\n",
            "1/1 [==============================] - 0s 15ms/step - loss: 2.6288\n",
            "Epoch 3/50\n",
            "1/1 [==============================] - 0s 12ms/step - loss: 2.6120\n",
            "Epoch 4/50\n",
            "1/1 [==============================] - 0s 14ms/step - loss: 2.5952\n",
            "Epoch 5/50\n",
            "1/1 [==============================] - 0s 11ms/step - loss: 2.5784\n",
            "Epoch 6/50\n",
            "1/1 [==============================] - 0s 11ms/step - loss: 2.5615\n",
            "Epoch 7/50\n",
            "1/1 [==============================] - 0s 12ms/step - loss: 2.5444\n",
            "Epoch 8/50\n",
            "1/1 [==============================] - 0s 11ms/step - loss: 2.5272\n",
            "Epoch 9/50\n",
            "1/1 [==============================] - 0s 10ms/step - loss: 2.5098\n",
            "Epoch 10/50\n",
            "1/1 [==============================] - 0s 12ms/step - loss: 2.4920\n",
            "Epoch 11/50\n",
            "1/1 [==============================] - 0s 11ms/step - loss: 2.4739\n",
            "Epoch 12/50\n",
            "1/1 [==============================] - 0s 16ms/step - loss: 2.4554\n",
            "Epoch 13/50\n",
            "1/1 [==============================] - 0s 11ms/step - loss: 2.4365\n",
            "Epoch 14/50\n",
            "1/1 [==============================] - 0s 11ms/step - loss: 2.4171\n",
            "Epoch 15/50\n",
            "1/1 [==============================] - 0s 17ms/step - loss: 2.3972\n",
            "Epoch 16/50\n",
            "1/1 [==============================] - 0s 13ms/step - loss: 2.3767\n",
            "Epoch 17/50\n",
            "1/1 [==============================] - 0s 11ms/step - loss: 2.3556\n",
            "Epoch 18/50\n",
            "1/1 [==============================] - 0s 12ms/step - loss: 2.3339\n",
            "Epoch 19/50\n",
            "1/1 [==============================] - 0s 11ms/step - loss: 2.3114\n",
            "Epoch 20/50\n",
            "1/1 [==============================] - 0s 12ms/step - loss: 2.2882\n",
            "Epoch 21/50\n",
            "1/1 [==============================] - 0s 13ms/step - loss: 2.2643\n",
            "Epoch 22/50\n",
            "1/1 [==============================] - 0s 12ms/step - loss: 2.2396\n",
            "Epoch 23/50\n",
            "1/1 [==============================] - 0s 11ms/step - loss: 2.2140\n",
            "Epoch 24/50\n",
            "1/1 [==============================] - 0s 12ms/step - loss: 2.1875\n",
            "Epoch 25/50\n",
            "1/1 [==============================] - 0s 12ms/step - loss: 2.1602\n",
            "Epoch 26/50\n",
            "1/1 [==============================] - 0s 12ms/step - loss: 2.1320\n",
            "Epoch 27/50\n",
            "1/1 [==============================] - 0s 12ms/step - loss: 2.1028\n",
            "Epoch 28/50\n",
            "1/1 [==============================] - 0s 11ms/step - loss: 2.0727\n",
            "Epoch 29/50\n",
            "1/1 [==============================] - 0s 11ms/step - loss: 2.0415\n",
            "Epoch 30/50\n",
            "1/1 [==============================] - 0s 11ms/step - loss: 2.0094\n",
            "Epoch 31/50\n",
            "1/1 [==============================] - 0s 11ms/step - loss: 1.9763\n",
            "Epoch 32/50\n",
            "1/1 [==============================] - 0s 13ms/step - loss: 1.9422\n",
            "Epoch 33/50\n",
            "1/1 [==============================] - 0s 12ms/step - loss: 1.9070\n",
            "Epoch 34/50\n",
            "1/1 [==============================] - 0s 13ms/step - loss: 1.8709\n",
            "Epoch 35/50\n",
            "1/1 [==============================] - 0s 14ms/step - loss: 1.8337\n",
            "Epoch 36/50\n",
            "1/1 [==============================] - 0s 12ms/step - loss: 1.7955\n",
            "Epoch 37/50\n",
            "1/1 [==============================] - 0s 12ms/step - loss: 1.7564\n",
            "Epoch 38/50\n",
            "1/1 [==============================] - 0s 13ms/step - loss: 1.7163\n",
            "Epoch 39/50\n",
            "1/1 [==============================] - 0s 13ms/step - loss: 1.6753\n",
            "Epoch 40/50\n",
            "1/1 [==============================] - 0s 11ms/step - loss: 1.6334\n",
            "Epoch 41/50\n",
            "1/1 [==============================] - 0s 12ms/step - loss: 1.5907\n",
            "Epoch 42/50\n",
            "1/1 [==============================] - 0s 11ms/step - loss: 1.5472\n",
            "Epoch 43/50\n",
            "1/1 [==============================] - 0s 11ms/step - loss: 1.5030\n",
            "Epoch 44/50\n",
            "1/1 [==============================] - 0s 11ms/step - loss: 1.4581\n",
            "Epoch 45/50\n",
            "1/1 [==============================] - 0s 12ms/step - loss: 1.4127\n",
            "Epoch 46/50\n",
            "1/1 [==============================] - 0s 12ms/step - loss: 1.3669\n",
            "Epoch 47/50\n",
            "1/1 [==============================] - 0s 12ms/step - loss: 1.3207\n",
            "Epoch 48/50\n",
            "1/1 [==============================] - 0s 11ms/step - loss: 1.2742\n",
            "Epoch 49/50\n",
            "1/1 [==============================] - 0s 11ms/step - loss: 1.2276\n",
            "Epoch 50/50\n",
            "1/1 [==============================] - 0s 11ms/step - loss: 1.1809\n"
          ]
        },
        {
          "output_type": "execute_result",
          "data": {
            "text/plain": [
              "<keras.src.callbacks.History at 0x7c5f7c6ad690>"
            ]
          },
          "metadata": {},
          "execution_count": 10
        }
      ]
    },
    {
      "cell_type": "code",
      "source": [
        "def generate_next_word(seed_text):\n",
        "  seed_sequence=tokenizer(seed_text)\n",
        "  predicted_prob=model.predict(seed_sequence)\n",
        "  predicted_index=np.argmax(predicted_prob)\n",
        "  predicted_word=tokenizer.get_vocabulary()[predicted_index]\n",
        "  return predicted_word"
      ],
      "metadata": {
        "id": "XDbxAAL0GEjk"
      },
      "execution_count": 13,
      "outputs": []
    },
    {
      "cell_type": "code",
      "source": [
        "input_text=\"used\"\n",
        "predicted_word=generate_next_word(input_text)\n",
        "print(f\"Input: '{input_text}',Predicted:'{predicted_word}'\")"
      ],
      "metadata": {
        "colab": {
          "base_uri": "https://localhost:8080/"
        },
        "id": "rFQVnKv0I5lE",
        "outputId": "32df05cf-bf21-4ce9-f88f-8161313e37b6"
      },
      "execution_count": 14,
      "outputs": [
        {
          "output_type": "stream",
          "name": "stdout",
          "text": [
            "1/1 [==============================] - 0s 212ms/step\n",
            "Input: 'used',Predicted:'to'\n"
          ]
        }
      ]
    },
    {
      "cell_type": "markdown",
      "source": [
        "USING LSTM MODEL\n"
      ],
      "metadata": {
        "id": "fq4AGPAfJsX7"
      }
    },
    {
      "cell_type": "code",
      "source": [
        "import tensorflow as tf\n",
        "import numpy as np"
      ],
      "metadata": {
        "id": "IVb6APEcJYji"
      },
      "execution_count": 15,
      "outputs": []
    },
    {
      "cell_type": "code",
      "source": [
        "text=\"this is a sample text used to demonstrate predictive text with basic rnn.In, this example we will predict the next word as you type.\""
      ],
      "metadata": {
        "id": "RIglsf_jJ24E"
      },
      "execution_count": 17,
      "outputs": []
    },
    {
      "cell_type": "code",
      "source": [
        "tokenizer=tf.keras.layers.TextVectorization()\n",
        "tokenizer.adapt(text.split())"
      ],
      "metadata": {
        "id": "OMH4KaneJ3L8"
      },
      "execution_count": 18,
      "outputs": []
    },
    {
      "cell_type": "code",
      "source": [
        "text_sequence=tokenizer(text)\n",
        "text_sequence\n",
        "\n",
        "\n"
      ],
      "metadata": {
        "colab": {
          "base_uri": "https://localhost:8080/"
        },
        "id": "dfSXH-miJ-SU",
        "outputId": "2b2735cf-52b8-46a8-af5e-e33002c7e339"
      },
      "execution_count": 19,
      "outputs": [
        {
          "output_type": "execute_result",
          "data": {
            "text/plain": [
              "<tf.Tensor: shape=(24,), dtype=int64, numpy=\n",
              "array([ 2, 18, 23, 13,  3,  9, 11, 20, 15,  3,  6, 21, 14,  2, 19,  8,  7,\n",
              "       16, 12, 17,  5, 22,  4, 10])>"
            ]
          },
          "metadata": {},
          "execution_count": 19
        }
      ]
    },
    {
      "cell_type": "code",
      "source": [
        "x=text_sequence[:-1]\n",
        "y=text_sequence[1:]\n",
        "\n",
        "model=tf.keras.Sequential([\n",
        "    tf.keras.layers.Embedding(input_dim=len(tokenizer.get_vocabulary()),output_dim=64,input_length=1),\n",
        "    tf.keras.layers.LSTM(128,return_sequences=True),\n",
        "    tf.keras.layers.Dense(len(tokenizer.get_vocabulary()),activation='softmax')\n",
        "])"
      ],
      "metadata": {
        "id": "jqauRyj4J_mj"
      },
      "execution_count": 20,
      "outputs": []
    },
    {
      "cell_type": "code",
      "source": [
        "model.compile(loss='sparse_categorical_crossentropy',optimizer='adam')\n",
        "\n",
        "model.fit(x,y,epochs=50)"
      ],
      "metadata": {
        "colab": {
          "base_uri": "https://localhost:8080/"
        },
        "id": "FVLXz0IxKyfb",
        "outputId": "4863fca0-7d1f-42e9-b53c-08dbd5d90cf5"
      },
      "execution_count": 21,
      "outputs": [
        {
          "output_type": "stream",
          "name": "stdout",
          "text": [
            "Epoch 1/50\n",
            "1/1 [==============================] - 4s 4s/step - loss: 3.1781\n",
            "Epoch 2/50\n",
            "1/1 [==============================] - 0s 14ms/step - loss: 3.1754\n",
            "Epoch 3/50\n",
            "1/1 [==============================] - 0s 12ms/step - loss: 3.1727\n",
            "Epoch 4/50\n",
            "1/1 [==============================] - 0s 24ms/step - loss: 3.1700\n",
            "Epoch 5/50\n",
            "1/1 [==============================] - 0s 14ms/step - loss: 3.1673\n",
            "Epoch 6/50\n",
            "1/1 [==============================] - 0s 12ms/step - loss: 3.1646\n",
            "Epoch 7/50\n",
            "1/1 [==============================] - 0s 13ms/step - loss: 3.1618\n",
            "Epoch 8/50\n",
            "1/1 [==============================] - 0s 15ms/step - loss: 3.1589\n",
            "Epoch 9/50\n",
            "1/1 [==============================] - 0s 16ms/step - loss: 3.1560\n",
            "Epoch 10/50\n",
            "1/1 [==============================] - 0s 14ms/step - loss: 3.1531\n",
            "Epoch 11/50\n",
            "1/1 [==============================] - 0s 12ms/step - loss: 3.1500\n",
            "Epoch 12/50\n",
            "1/1 [==============================] - 0s 19ms/step - loss: 3.1469\n",
            "Epoch 13/50\n",
            "1/1 [==============================] - 0s 17ms/step - loss: 3.1436\n",
            "Epoch 14/50\n",
            "1/1 [==============================] - 0s 14ms/step - loss: 3.1403\n",
            "Epoch 15/50\n",
            "1/1 [==============================] - 0s 14ms/step - loss: 3.1368\n",
            "Epoch 16/50\n",
            "1/1 [==============================] - 0s 15ms/step - loss: 3.1332\n",
            "Epoch 17/50\n",
            "1/1 [==============================] - 0s 12ms/step - loss: 3.1294\n",
            "Epoch 18/50\n",
            "1/1 [==============================] - 0s 13ms/step - loss: 3.1255\n",
            "Epoch 19/50\n",
            "1/1 [==============================] - 0s 13ms/step - loss: 3.1215\n",
            "Epoch 20/50\n",
            "1/1 [==============================] - 0s 13ms/step - loss: 3.1172\n",
            "Epoch 21/50\n",
            "1/1 [==============================] - 0s 13ms/step - loss: 3.1128\n",
            "Epoch 22/50\n",
            "1/1 [==============================] - 0s 17ms/step - loss: 3.1082\n",
            "Epoch 23/50\n",
            "1/1 [==============================] - 0s 13ms/step - loss: 3.1033\n",
            "Epoch 24/50\n",
            "1/1 [==============================] - 0s 13ms/step - loss: 3.0983\n",
            "Epoch 25/50\n",
            "1/1 [==============================] - 0s 14ms/step - loss: 3.0930\n",
            "Epoch 26/50\n",
            "1/1 [==============================] - 0s 13ms/step - loss: 3.0875\n",
            "Epoch 27/50\n",
            "1/1 [==============================] - 0s 13ms/step - loss: 3.0817\n",
            "Epoch 28/50\n",
            "1/1 [==============================] - 0s 12ms/step - loss: 3.0756\n",
            "Epoch 29/50\n",
            "1/1 [==============================] - 0s 16ms/step - loss: 3.0693\n",
            "Epoch 30/50\n",
            "1/1 [==============================] - 0s 18ms/step - loss: 3.0626\n",
            "Epoch 31/50\n",
            "1/1 [==============================] - 0s 15ms/step - loss: 3.0557\n",
            "Epoch 32/50\n",
            "1/1 [==============================] - 0s 18ms/step - loss: 3.0484\n",
            "Epoch 33/50\n",
            "1/1 [==============================] - 0s 20ms/step - loss: 3.0408\n",
            "Epoch 34/50\n",
            "1/1 [==============================] - 0s 14ms/step - loss: 3.0329\n",
            "Epoch 35/50\n",
            "1/1 [==============================] - 0s 14ms/step - loss: 3.0246\n",
            "Epoch 36/50\n",
            "1/1 [==============================] - 0s 14ms/step - loss: 3.0159\n",
            "Epoch 37/50\n",
            "1/1 [==============================] - 0s 18ms/step - loss: 3.0068\n",
            "Epoch 38/50\n",
            "1/1 [==============================] - 0s 15ms/step - loss: 2.9972\n",
            "Epoch 39/50\n",
            "1/1 [==============================] - 0s 20ms/step - loss: 2.9873\n",
            "Epoch 40/50\n",
            "1/1 [==============================] - 0s 19ms/step - loss: 2.9769\n",
            "Epoch 41/50\n",
            "1/1 [==============================] - 0s 15ms/step - loss: 2.9660\n",
            "Epoch 42/50\n",
            "1/1 [==============================] - 0s 14ms/step - loss: 2.9546\n",
            "Epoch 43/50\n",
            "1/1 [==============================] - 0s 13ms/step - loss: 2.9428\n",
            "Epoch 44/50\n",
            "1/1 [==============================] - 0s 13ms/step - loss: 2.9304\n",
            "Epoch 45/50\n",
            "1/1 [==============================] - 0s 13ms/step - loss: 2.9174\n",
            "Epoch 46/50\n",
            "1/1 [==============================] - 0s 13ms/step - loss: 2.9039\n",
            "Epoch 47/50\n",
            "1/1 [==============================] - 0s 14ms/step - loss: 2.8898\n",
            "Epoch 48/50\n",
            "1/1 [==============================] - 0s 12ms/step - loss: 2.8751\n",
            "Epoch 49/50\n",
            "1/1 [==============================] - 0s 15ms/step - loss: 2.8598\n",
            "Epoch 50/50\n",
            "1/1 [==============================] - 0s 13ms/step - loss: 2.8439\n"
          ]
        },
        {
          "output_type": "execute_result",
          "data": {
            "text/plain": [
              "<keras.src.callbacks.History at 0x7c5f8d0ec820>"
            ]
          },
          "metadata": {},
          "execution_count": 21
        }
      ]
    },
    {
      "cell_type": "code",
      "source": [
        "def generate_next_word(seed_text):\n",
        "  seed_sequence=tokenizer(seed_text)\n",
        "  predicted_prob=model.predict(seed_sequence)\n",
        "  predicted_index=np.argmax(predicted_prob)\n",
        "  predicted_word=tokenizer.get_vocabulary()[predicted_index]\n",
        "  return predicted_word"
      ],
      "metadata": {
        "id": "2AyMMjFwK1wU"
      },
      "execution_count": 22,
      "outputs": []
    },
    {
      "cell_type": "code",
      "source": [
        "input_text=\"used\"\n",
        "predicted_word=generate_next_word(input_text)\n",
        "print(f\"Input: '{input_text}',Predicted:'{predicted_word}'\")"
      ],
      "metadata": {
        "colab": {
          "base_uri": "https://localhost:8080/"
        },
        "id": "gMd3QNL1K_YU",
        "outputId": "1c3b3773-05c0-48f4-bbee-a215c8bcbe5e"
      },
      "execution_count": 23,
      "outputs": [
        {
          "output_type": "stream",
          "name": "stdout",
          "text": [
            "1/1 [==============================] - 1s 1s/step\n",
            "Input: 'used',Predicted:'to'\n"
          ]
        }
      ]
    },
    {
      "cell_type": "code",
      "source": [],
      "metadata": {
        "id": "iqRQA6M8K_tz"
      },
      "execution_count": null,
      "outputs": []
    },
    {
      "cell_type": "code",
      "source": [],
      "metadata": {
        "id": "hvq1vpPZNBhG"
      },
      "execution_count": null,
      "outputs": []
    },
    {
      "cell_type": "code",
      "source": [
        "from google.colab import drive\n",
        "drive.mount('/content/drive')"
      ],
      "metadata": {
        "id": "UXvTVXO0Ng5A"
      },
      "execution_count": null,
      "outputs": []
    }
  ]
}